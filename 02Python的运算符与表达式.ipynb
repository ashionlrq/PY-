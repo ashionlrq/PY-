{
 "cells": [
  {
   "cell_type": "markdown",
   "metadata": {},
   "source": [
    "## Python的运算符与表达式"
   ]
  },
  {
   "cell_type": "markdown",
   "metadata": {},
   "source": [
    "# 1、认识Python运算符"
   ]
  },
  {
   "cell_type": "markdown",
   "metadata": {},
   "source": [
    "###什么是运算符"
   ]
  },
  {
   "cell_type": "markdown",
   "metadata": {},
   "source": [
    "在Python中，有的时候我们需要对一个或多个数字或者一个或多个字符串进行运算操作，比如我们上门课学习的让字符串重复的*也是一种运算符，再比如2+3中的“+”也是一种运算符。\n"
   ]
  },
  {
   "cell_type": "markdown",
   "metadata": {},
   "source": [
    "###运算符有哪些"
   ]
  },
  {
   "cell_type": "markdown",
   "metadata": {},
   "source": [
    "在Python中我们常见的运算符有：+、-、*、/、**、<、>、!=、//、%、&、|、^、~、>>、<<、<=、>=、==、not、and、or。\n"
   ]
  },
  {
   "cell_type": "markdown",
   "metadata": {},
   "source": [
    "###运算符的使用方法"
   ]
  },
  {
   "cell_type": "markdown",
   "metadata": {},
   "source": [
    "上面我们讲解了Python的运算符有哪些，下面我们通过实例来逐个了解我们的运算符。\n"
   ]
  },
  {
   "cell_type": "markdown",
   "metadata": {},
   "source": [
    "算数运算符"
   ]
  },
  {
   "cell_type": "code",
   "execution_count": 1,
   "metadata": {
    "collapsed": false
   },
   "outputs": [
    {
     "name": "stdout",
     "output_type": "stream",
     "text": [
      "15\n"
     ]
    }
   ],
   "source": [
    "#\"+\":两个对象相加\n",
    "#两个数字相加\n",
    "a=7+8\n",
    "print a"
   ]
  },
  {
   "cell_type": "code",
   "execution_count": 3,
   "metadata": {
    "collapsed": false
   },
   "outputs": [
    {
     "name": "stdout",
     "output_type": "stream",
     "text": [
      "GOOD JOB!\n"
     ]
    }
   ],
   "source": [
    "#两个字符串相加\n",
    "b=\"GOOD\"+\" JOB!\"\n",
    "print b"
   ]
  },
  {
   "cell_type": "code",
   "execution_count": 4,
   "metadata": {
    "collapsed": false
   },
   "outputs": [
    {
     "name": "stdout",
     "output_type": "stream",
     "text": [
      "-7\n",
      "8\n",
      "18\n"
     ]
    }
   ],
   "source": [
    "#\"-\":取一个数字的相反数或者实现两个数字相减\n",
    "a=-7\n",
    "print a\n",
    "b=-(-8)\n",
    "print b\n",
    "\n",
    "c=19-1\n",
    "print c"
   ]
  },
  {
   "cell_type": "code",
   "execution_count": 7,
   "metadata": {
    "collapsed": false
   },
   "outputs": [
    {
     "name": "stdout",
     "output_type": "stream",
     "text": [
      "28\n",
      "hellohellohellohellohellohellohello\n",
      "hello\n",
      "hello\n",
      "hello\n",
      "hello\n",
      "hello\n",
      "hello\n",
      "hello\n",
      "\n"
     ]
    }
   ],
   "source": [
    "#\"*\":两个数相乘或者字符串重复\n",
    "a=4*7\n",
    "print a\n",
    "\n",
    "b=\"hello\"*7\n",
    "print b\n",
    "b=\"hello\\n\"*7\n",
    "print b"
   ]
  },
  {
   "cell_type": "code",
   "execution_count": 11,
   "metadata": {
    "collapsed": false
   },
   "outputs": [
    {
     "name": "stdout",
     "output_type": "stream",
     "text": [
      "3\n",
      "3.5\n",
      "3.5\n",
      "3.5\n"
     ]
    }
   ],
   "source": [
    "#\"/\":两个数字相除\n",
    "a=7/2\n",
    "print a\n",
    "\n",
    "b=7.0/2\n",
    "c=7/2.0\n",
    "print b\n",
    "print c\n",
    "\n",
    "from __future__ import division  \n",
    "a=7/2\n",
    "print a"
   ]
  },
  {
   "cell_type": "code",
   "execution_count": 13,
   "metadata": {
    "collapsed": false
   },
   "outputs": [
    {
     "name": "stdout",
     "output_type": "stream",
     "text": [
      "8\n"
     ]
    }
   ],
   "source": [
    "#\"**\":求幂运算\n",
    "a=2**3   #相当于2的3次幂，就是2*2*2\n",
    "print a"
   ]
  },
  {
   "cell_type": "code",
   "execution_count": 15,
   "metadata": {
    "collapsed": false
   },
   "outputs": [
    {
     "name": "stdout",
     "output_type": "stream",
     "text": [
      "3\n"
     ]
    }
   ],
   "source": [
    "#\"//\":除法运算，然后返回其商的整数部分，舍掉余数\n",
    "a=10//3\n",
    "print a"
   ]
  },
  {
   "cell_type": "code",
   "execution_count": 16,
   "metadata": {
    "collapsed": false
   },
   "outputs": [
    {
     "name": "stdout",
     "output_type": "stream",
     "text": [
      "1\n",
      "0\n"
     ]
    }
   ],
   "source": [
    "#\"%\":除法运算，然后返回其商的余数部分，舍掉商\n",
    "a=10%3\n",
    "print a\n",
    "\n",
    "b=10%1  #没有余数的时候返回什么？\n",
    "print b"
   ]
  },
  {
   "cell_type": "code",
   "execution_count": 17,
   "metadata": {
    "collapsed": false
   },
   "outputs": [
    {
     "name": "stdout",
     "output_type": "stream",
     "text": [
      "3 1 10\n"
     ]
    }
   ],
   "source": [
    "a=10//3  #a为商的整数部分\n",
    "b=10%3   #b为\n",
    "c=3*a+b  #c为除数乘以商的整数部分加上余数，应该c的值就是被除数\n",
    "print a,b, c"
   ]
  },
  {
   "cell_type": "markdown",
   "metadata": {},
   "source": [
    "比较运算符"
   ]
  },
  {
   "cell_type": "code",
   "execution_count": 18,
   "metadata": {
    "collapsed": false
   },
   "outputs": [
    {
     "name": "stdout",
     "output_type": "stream",
     "text": [
      "True\n",
      "False\n"
     ]
    }
   ],
   "source": [
    "#\"<\"：小于符号，返回一个bool值\n",
    "a=3<7\n",
    "print a\n",
    "\n",
    "b=3<3\n",
    "print b"
   ]
  },
  {
   "cell_type": "code",
   "execution_count": 19,
   "metadata": {
    "collapsed": false
   },
   "outputs": [
    {
     "name": "stdout",
     "output_type": "stream",
     "text": [
      "False\n",
      "True\n"
     ]
    }
   ],
   "source": [
    "#\">\":大于符号，返回一个bool值\n",
    "a=3>7\n",
    "print a\n",
    "\n",
    "b=3>1\n",
    "print b"
   ]
  },
  {
   "cell_type": "code",
   "execution_count": 3,
   "metadata": {
    "collapsed": false
   },
   "outputs": [
    {
     "name": "stdout",
     "output_type": "stream",
     "text": [
      "True\n",
      "False\n"
     ]
    }
   ],
   "source": [
    "#\"!=\":不等于符号，同样返回一个bool值\n",
    "a=2!=3\n",
    "print(a)\n",
    "\n",
    "b=2!=2\n",
    "print(b)"
   ]
  },
  {
   "cell_type": "code",
   "execution_count": 21,
   "metadata": {
    "collapsed": false
   },
   "outputs": [
    {
     "name": "stdout",
     "output_type": "stream",
     "text": [
      "True\n",
      "False\n",
      "False\n",
      "True\n"
     ]
    }
   ],
   "source": [
    "#\"<=\":小于等于符号，比较运算，小于或等于，返回一个bool值\n",
    "a=3<=3\n",
    "print a\n",
    "\n",
    "b=4<=3\n",
    "print b\n",
    "\n",
    "#\">=\"\n",
    "a=1>=3\n",
    "print a\n",
    "\n",
    "b=4>=3\n",
    "print b"
   ]
  },
  {
   "cell_type": "code",
   "execution_count": 22,
   "metadata": {
    "collapsed": false
   },
   "outputs": [
    {
     "name": "stdout",
     "output_type": "stream",
     "text": [
      "False\n",
      "True\n"
     ]
    }
   ],
   "source": [
    "#\"==\":比较两个对象是否相等\n",
    "a=12==13\n",
    "print a\n",
    "b=\"hello\"==\"hello\"\n",
    "print b"
   ]
  },
  {
   "cell_type": "markdown",
   "metadata": {},
   "source": [
    "逻辑运算符"
   ]
  },
  {
   "cell_type": "code",
   "execution_count": 23,
   "metadata": {
    "collapsed": false
   },
   "outputs": [
    {
     "name": "stdout",
     "output_type": "stream",
     "text": [
      "False\n",
      "True\n"
     ]
    }
   ],
   "source": [
    "#not:逻辑非\n",
    "a=True\n",
    "b=not a\n",
    "print b\n",
    "\n",
    "c=False\n",
    "print not c\n"
   ]
  },
  {
   "cell_type": "code",
   "execution_count": 24,
   "metadata": {
    "collapsed": false
   },
   "outputs": [
    {
     "name": "stdout",
     "output_type": "stream",
     "text": [
      "True\n"
     ]
    }
   ],
   "source": [
    "#and:逻辑与\n",
    "'''\n",
    "True and True等于True\n",
    "True and False等于False\n",
    "False and True等于False\n",
    "'''\n",
    "print True and True"
   ]
  },
  {
   "cell_type": "code",
   "execution_count": 25,
   "metadata": {
    "collapsed": false
   },
   "outputs": [
    {
     "name": "stdout",
     "output_type": "stream",
     "text": [
      "True\n"
     ]
    }
   ],
   "source": [
    "#or:逻辑或\n",
    "'''\n",
    "True and True等于True\n",
    "True and False等于True\n",
    "False and False等于False\n",
    "'''\n",
    "print True or False"
   ]
  },
  {
   "cell_type": "markdown",
   "metadata": {},
   "source": [
    "位运算符(按位置与)"
   ]
  },
  {
   "cell_type": "code",
   "execution_count": 4,
   "metadata": {
    "collapsed": false
   },
   "outputs": [
    {
     "name": "stdout",
     "output_type": "stream",
     "text": [
      "2\n"
     ]
    },
    {
     "data": {
      "text/plain": [
       "'首先我们打开计算器，然后我们将7转化为二进制，得到7的二进制值是：111，自动补全为8位，即00000111\\n   然后我们将18转化为二进制，得到18二进制的值是10010，同样补全为8位，即00010010\\n   再然后，我们将00000111\\n   ，跟          00010010按位进行与运算，\\n   得到的结果是：00000010，然后，我们将00000010转化为十进制\\n   得到数字二，所以7跟18按位与的结果是二进制的10，即为十进制的2\\n\\n'"
      ]
     },
     "execution_count": 4,
     "metadata": {},
     "output_type": "execute_result"
    }
   ],
   "source": [
    "#\"&\":按位与运算，所谓的按位与是指一个数字转化为二进制，然后这些二进制的数按位来进行与运算\n",
    "a=7&18  #执行一下，为什么7跟18与会得到2呢？？\n",
    "print (a)\n",
    "'''首先我们打开计算器，然后我们将7转化为二进制，得到7的二进制值是：111，自动补全为8位，即00000111\n",
    "   然后我们将18转化为二进制，得到18二进制的值是10010，同样补全为8位，即00010010\n",
    "   再然后，我们将00000111\n",
    "   ，跟          00010010按位进行与运算，\n",
    "   得到的结果是：00000010，然后，我们将00000010转化为十进制\n",
    "   得到数字二，所以7跟18按位与的结果是二进制的10，即为十进制的2\n",
    "\n",
    "'''"
   ]
  },
  {
   "cell_type": "code",
   "execution_count": 31,
   "metadata": {
    "collapsed": false
   },
   "outputs": [
    {
     "name": "stdout",
     "output_type": "stream",
     "text": [
      "23\n"
     ]
    },
    {
     "data": {
      "text/plain": [
       "'\\xe6\\x88\\x91\\xe4\\xbb\\xac\\xe6\\x9d\\xa5\\xe5\\x88\\x86\\xe6\\x9e\\x90\\xe4\\xb8\\x80\\xe4\\xb8\\x8b\\xef\\xbc\\x8c\\xe5\\x90\\x8c\\xe6\\xa0\\xb7\\xe6\\x88\\x91\\xe4\\xbb\\xac\\xe7\\x9a\\x847\\xe7\\x9a\\x84\\xe4\\xba\\x8c\\xe8\\xbf\\x9b\\xe5\\x88\\xb6\\xe5\\xbd\\xa2\\xe5\\xbc\\x8f\\xe6\\x98\\xaf00000111\\xef\\xbc\\x8c18\\xe7\\x9a\\x84\\xe4\\xba\\x8c\\xe8\\xbf\\x9b\\xe5\\x88\\xb6\\xe5\\xbd\\xa2\\xe5\\xbc\\x8f\\xe6\\x98\\xaf00010010\\n   \\xe6\\x88\\x91\\xe4\\xbb\\xac\\xe5\\xb0\\x86      00000111\\n   \\xe8\\xb7\\x9f          00010010\\xe6\\x8c\\x89\\xe4\\xbd\\x8d\\xe8\\xbf\\x9b\\xe8\\xa1\\x8c\\xe6\\x88\\x96\\xe8\\xbf\\x90\\xe7\\xae\\x97\\xef\\xbc\\x8c\\n   \\xe5\\xbe\\x97\\xe5\\x88\\xb0\\xe7\\x9a\\x84\\xe7\\xbb\\x93\\xe6\\x9e\\x9c\\xe6\\x98\\xaf 00010111\\xef\\xbc\\x8c\\xe7\\x84\\xb6\\xe5\\x90\\x8e\\xef\\xbc\\x8c\\xe6\\x88\\x91\\xe4\\xbb\\xac\\xe5\\xb0\\x8600010111\\xe8\\xbd\\xac\\xe5\\x8c\\x96\\xe4\\xb8\\xba\\xe5\\x8d\\x81\\xe8\\xbf\\x9b\\xe5\\x88\\xb6\\n   \\xe5\\xbe\\x97\\xe5\\x88\\xb0\\xe6\\x95\\xb0\\xe5\\xad\\x9723\\xef\\xbc\\x8c\\xe6\\x89\\x80\\xe4\\xbb\\xa57\\xe8\\xb7\\x9f18\\xe6\\x8c\\x89\\xe4\\xbd\\x8d\\xe6\\x88\\x96\\xe7\\x9a\\x84\\xe7\\xbb\\x93\\xe6\\x9e\\x9c\\xe6\\x98\\xaf\\xe4\\xba\\x8c\\xe8\\xbf\\x9b\\xe5\\x88\\xb6\\xe7\\x9a\\x8410111\\xef\\xbc\\x8c\\xe5\\x8d\\xb3\\xe4\\xb8\\xba\\xe5\\x8d\\x81\\xe8\\xbf\\x9b\\xe5\\x88\\xb6\\xe7\\x9a\\x8423\\n\\n\\n'"
      ]
     },
     "execution_count": 31,
     "metadata": {},
     "output_type": "execute_result"
    }
   ],
   "source": [
    "#\"|\":按位或运算，同样我们要将数字转化为二进制之后按位进行或运算\n",
    "a=7|18\n",
    "print a\n",
    "'''我们来分析一下，同样我们的7的二进制形式是00000111，18的二进制形式是00010010\n",
    "   我们将      00000111\n",
    "   跟          00010010按位进行或运算，\n",
    "   得到的结果是 00010111，然后，我们将00010111转化为十进制\n",
    "   得到数字23，所以7跟18按位或的结果是二进制的10111，即为十进制的23\n",
    "\n",
    "\n",
    "'''"
   ]
  },
  {
   "cell_type": "code",
   "execution_count": 32,
   "metadata": {
    "collapsed": false
   },
   "outputs": [
    {
     "name": "stdout",
     "output_type": "stream",
     "text": [
      "21\n"
     ]
    },
    {
     "data": {
      "text/plain": [
       "'\\n   \\xe9\\xa6\\x96\\xe5\\x85\\x88\\xef\\xbc\\x8c\\xe5\\xbc\\x82\\xe6\\x88\\x96\\xe6\\x8c\\x87\\xe7\\x9a\\x84\\xe6\\x98\\xaf\\xef\\xbc\\x8c\\xe4\\xb8\\x8d\\xe5\\x90\\x8c\\xe5\\x88\\x99\\xe4\\xb8\\xba1\\xef\\xbc\\x8c\\xe7\\x9b\\xb8\\xe5\\x90\\x8c\\xe5\\x88\\x99\\xe4\\xb8\\xba0.\\n   \\xe6\\x88\\x91\\xe4\\xbb\\xac\\xe6\\x9d\\xa5\\xe5\\x88\\x86\\xe6\\x9e\\x90\\xe4\\xb8\\x80\\xe4\\xb8\\x8b\\xef\\xbc\\x8c\\xe5\\x90\\x8c\\xe6\\xa0\\xb7\\xe6\\x88\\x91\\xe4\\xbb\\xac\\xe7\\x9a\\x847\\xe7\\x9a\\x84\\xe4\\xba\\x8c\\xe8\\xbf\\x9b\\xe5\\x88\\xb6\\xe5\\xbd\\xa2\\xe5\\xbc\\x8f\\xe6\\x98\\xaf00000111\\xef\\xbc\\x8c18\\xe7\\x9a\\x84\\xe4\\xba\\x8c\\xe8\\xbf\\x9b\\xe5\\x88\\xb6\\xe5\\xbd\\xa2\\xe5\\xbc\\x8f\\xe6\\x98\\xaf00010010\\n   \\xe6\\x88\\x91\\xe4\\xbb\\xac\\xe5\\xb0\\x86      00000111\\n   \\xe8\\xb7\\x9f         00010010\\xe6\\x8c\\x89\\xe4\\xbd\\x8d\\xe8\\xbf\\x9b\\xe8\\xa1\\x8c\\xe5\\xbc\\x82\\xe6\\x88\\x96\\xe8\\xbf\\x90\\xe7\\xae\\x97\\xef\\xbc\\x8c\\n   \\xe5\\xbe\\x97\\xe5\\x88\\xb0\\xe7\\x9a\\x84\\xe7\\xbb\\x93\\xe6\\x9e\\x9c\\xe6\\x98\\xaf 00010101\\xef\\xbc\\x8c\\xe7\\x84\\xb6\\xe5\\x90\\x8e\\xef\\xbc\\x8c\\xe6\\x88\\x91\\xe4\\xbb\\xac\\xe5\\xb0\\x8600010101\\xe8\\xbd\\xac\\xe5\\x8c\\x96\\xe4\\xb8\\xba\\xe5\\x8d\\x81\\xe8\\xbf\\x9b\\xe5\\x88\\xb6\\n   \\xe5\\xbe\\x97\\xe5\\x88\\xb0\\xe6\\x95\\xb0\\xe5\\xad\\x9721\\xef\\xbc\\x8c\\xe6\\x89\\x80\\xe4\\xbb\\xa57\\xe8\\xb7\\x9f18\\xe6\\x8c\\x89\\xe4\\xbd\\x8d\\xe5\\xbc\\x82\\xe6\\x88\\x96\\xe7\\x9a\\x84\\xe7\\xbb\\x93\\xe6\\x9e\\x9c\\xe6\\x98\\xaf\\xe4\\xba\\x8c\\xe8\\xbf\\x9b\\xe5\\x88\\xb6\\xe7\\x9a\\x8410101\\xef\\xbc\\x8c\\xe5\\x8d\\xb3\\xe4\\xb8\\xba\\xe5\\x8d\\x81\\xe8\\xbf\\x9b\\xe5\\x88\\xb6\\xe7\\x9a\\x8421\\n\\n\\n'"
      ]
     },
     "execution_count": 32,
     "metadata": {},
     "output_type": "execute_result"
    }
   ],
   "source": [
    "#\"^\"按位异或\n",
    "a=7^18\n",
    "print a\n",
    "'''\n",
    "   首先，异或指的是，不同则为1，相同则为0.\n",
    "   我们来分析一下，同样我们的7的二进制形式是00000111，18的二进制形式是00010010\n",
    "   我们将      00000111\n",
    "   跟         00010010按位进行异或运算，\n",
    "   得到的结果是 00010101，然后，我们将00010101转化为十进制\n",
    "   得到数字21，所以7跟18按位异或的结果是二进制的10101，即为十进制的21\n",
    "\n",
    "'''"
   ]
  },
  {
   "cell_type": "code",
   "execution_count": 33,
   "metadata": {
    "collapsed": false
   },
   "outputs": [
    {
     "name": "stdout",
     "output_type": "stream",
     "text": [
      "-19\n"
     ]
    }
   ],
   "source": [
    "#\"~\":按位翻转~x=-（x+1）\n",
    "a=~18  #~18=-（18+1）=-19\n",
    "print a"
   ]
  },
  {
   "cell_type": "code",
   "execution_count": null,
   "metadata": {
    "collapsed": true
   },
   "outputs": [],
   "source": [
    "#\"<<\":左移\n",
    "'''\n",
    "比如18左移就是将他的二进制形式00100100左移，即移后成为00100100，即成为36，左移一个单位相当于乘2,左移动两个单位\n",
    "相当于乘4，左移3个单位相当于乘8，左移n个单位相当于乘2的n次幂。\n",
    "'''\n",
    "a=18<<1\n",
    "#print a\n",
    "\n",
    "b=3<<3\n",
    "#print b"
   ]
  },
  {
   "cell_type": "code",
   "execution_count": null,
   "metadata": {
    "collapsed": true
   },
   "outputs": [],
   "source": [
    "#\"<<\"：右移\n",
    "'''\n",
    "右移是左移的逆运算，即将对应的二进制数向右移动，右移一个单位相当于除以2,右移动两个单位相当于除以4，右移3个单位相当于\n",
    "除以8，右移n个单位相当于除以2的n次幂。\n",
    "'''\n",
    "a=18>>1\n",
    "#print a\n",
    "\n",
    "b=18>>2\n",
    "#print b"
   ]
  },
  {
   "cell_type": "markdown",
   "metadata": {},
   "source": [
    "##2、认识Python优先级"
   ]
  },
  {
   "cell_type": "markdown",
   "metadata": {},
   "source": [
    "###什么是Python的优先级"
   ]
  },
  {
   "cell_type": "markdown",
   "metadata": {},
   "source": [
    "Python中的程序或运算符的执行是有先后顺序的，比如A跟B同时出现，如果A可以优先于B执行，那么就说明A的优先级比B的优先级高，B的优先级比A的优先级低。其中，A跟B可以是运算符，也可以是程序。就是说，Python中的优先级分为两种，一种是程序之间的优先级，还有一种是运算符之间的优先级。我们这里主要讨论Python运算符之间的优先级。下面我们通过实例来看一下Python优先级的作用。\n"
   ]
  },
  {
   "cell_type": "code",
   "execution_count": 34,
   "metadata": {
    "collapsed": false
   },
   "outputs": [
    {
     "name": "stdout",
     "output_type": "stream",
     "text": [
      "58\n",
      "True\n"
     ]
    }
   ],
   "source": [
    "#优先级的作用\n",
    "a=2+7*8\n",
    "print a\n",
    "\n",
    "b=9>7\n",
    "print b"
   ]
  },
  {
   "cell_type": "markdown",
   "metadata": {},
   "source": [
    "###Python优先级使用实战"
   ]
  },
  {
   "cell_type": "markdown",
   "metadata": {},
   "source": [
    "在Python里面，不同的运算符有不同的优先级，那么到底哪些运算符的优先级高，哪些运算符的优先级低呢？我们下面通过实例讲解。\n"
   ]
  },
  {
   "cell_type": "code",
   "execution_count": 35,
   "metadata": {
    "collapsed": false
   },
   "outputs": [
    {
     "name": "stdout",
     "output_type": "stream",
     "text": [
      "6\n"
     ]
    }
   ],
   "source": [
    "#优先级使用实战\n",
    "\n",
    "#优先级排行榜第1名——函数调用、寻址、下标\n",
    "a=[1,2,3]\n",
    "print a[1]*3"
   ]
  },
  {
   "cell_type": "code",
   "execution_count": 36,
   "metadata": {
    "collapsed": false
   },
   "outputs": [
    {
     "name": "stdout",
     "output_type": "stream",
     "text": [
      "32\n"
     ]
    }
   ],
   "source": [
    "#优先级排行榜第2名——幂运算**\n",
    "a=4*2**3\n",
    "print a"
   ]
  },
  {
   "cell_type": "code",
   "execution_count": 37,
   "metadata": {
    "collapsed": false
   },
   "outputs": [
    {
     "name": "stdout",
     "output_type": "stream",
     "text": [
      "-40\n"
     ]
    }
   ],
   "source": [
    "#优先级排行榜第3名——翻转运算~\n",
    "a=~4*2**3\n",
    "print a"
   ]
  },
  {
   "cell_type": "code",
   "execution_count": 38,
   "metadata": {
    "collapsed": false
   },
   "outputs": [
    {
     "name": "stdout",
     "output_type": "stream",
     "text": [
      "-6\n"
     ]
    }
   ],
   "source": [
    "#优先级排行榜第4名——正负号\n",
    "print 2+4*-2   #我们可以看，正负号的使用方法是紧挨着操作数的，否则会出错，这就说明正负号优先于加减乘除运算"
   ]
  },
  {
   "cell_type": "code",
   "execution_count": 39,
   "metadata": {
    "collapsed": false,
    "scrolled": false
   },
   "outputs": [
    {
     "name": "stdout",
     "output_type": "stream",
     "text": [
      "4.0\n"
     ]
    }
   ],
   "source": [
    "#优先级排行榜第5名——*、/、%\n",
    "print 2+4*2/4"
   ]
  },
  {
   "cell_type": "code",
   "execution_count": 5,
   "metadata": {
    "collapsed": false
   },
   "outputs": [
    {
     "name": "stdout",
     "output_type": "stream",
     "text": [
      "24\n"
     ]
    }
   ],
   "source": [
    "#优先级排行榜第6名——+、-\n",
    "print (3<<2+1)"
   ]
  },
  {
   "cell_type": "code",
   "execution_count": 41,
   "metadata": {
    "collapsed": true
   },
   "outputs": [],
   "source": [
    "#优先级排行榜第7名——<<、>>"
   ]
  },
  {
   "cell_type": "code",
   "execution_count": 42,
   "metadata": {
    "collapsed": true
   },
   "outputs": [],
   "source": [
    "#优先级排行榜第8名——按位&、^、|，其实这三个中也是有优先级顺序的，但是他们处于同一级别，故而不细分"
   ]
  },
  {
   "cell_type": "code",
   "execution_count": 43,
   "metadata": {
    "collapsed": false
   },
   "outputs": [
    {
     "name": "stdout",
     "output_type": "stream",
     "text": [
      "False\n"
     ]
    }
   ],
   "source": [
    "#优先级排行榜第9名——比较运算符\n",
    "a=2*3+5<=5+1*2\n",
    "print a"
   ]
  },
  {
   "cell_type": "code",
   "execution_count": 44,
   "metadata": {
    "collapsed": false
   },
   "outputs": [
    {
     "name": "stdout",
     "output_type": "stream",
     "text": [
      "1\n"
     ]
    }
   ],
   "source": [
    "#优先级排行榜第10名——逻辑的not、and、or\n",
    "a=2*3+5<=5+1*2 or 1\n",
    "print a"
   ]
  },
  {
   "cell_type": "code",
   "execution_count": 6,
   "metadata": {
    "collapsed": false
   },
   "outputs": [
    {
     "data": {
      "text/plain": [
       "6"
      ]
     },
     "execution_count": 6,
     "metadata": {},
     "output_type": "execute_result"
    }
   ],
   "source": [
    "#优先级排行榜第11名——lambda表达式\n",
    "f=lambda x,y,z:x+y+z\n",
    "f(1,2,3)\n",
    "\n",
    "#lambda只是一个表达式，函数体比def简单很多。\n",
    "#lambda的主体是一个表达式，而不是一个代码块。仅仅能在lambda表达式中封装有限的逻辑进去。\n",
    "#lambda表达式是起到一个函数速写的作用。允许在代码内嵌入一个函数的定义。\n"
   ]
  },
  {
   "cell_type": "markdown",
   "metadata": {},
   "source": [
    "##3、Python优先级规律"
   ]
  },
  {
   "cell_type": "markdown",
   "metadata": {},
   "source": [
    "###Python常见运算符优先级使用规律"
   ]
  },
  {
   "cell_type": "markdown",
   "metadata": {},
   "source": [
    "Python中运算符非常多，我们上节课已经给大家讲解了各个运算符的具体优先级。但是由于运算符非常多，所以我们有必要进行一些规律的总结，不然记忆就很容易混淆。我们下面对这些运算符的优先级使用规律进行实例讲解。\n"
   ]
  },
  {
   "cell_type": "code",
   "execution_count": 46,
   "metadata": {
    "collapsed": false
   },
   "outputs": [
    {
     "name": "stdout",
     "output_type": "stream",
     "text": [
      "46\n",
      "99\n"
     ]
    }
   ],
   "source": [
    "#优先级使用规律\n",
    "\n",
    "#1、一般情况下是左结合的\n",
    "print 4+6+5*6+6\n",
    "\n",
    "#2、出现赋值的时候一般是右结合\n",
    "a=8+91\n",
    "print a\n"
   ]
  },
  {
   "cell_type": "markdown",
   "metadata": {},
   "source": [
    "###Python优先级规律记忆心法"
   ]
  },
  {
   "cell_type": "markdown",
   "metadata": {},
   "source": [
    "我们上面已经学习了在Python中运算符的优先级的规律，有了这些基础之后，我们运用记忆口诀就能很快速的记住这些Python的运算符的优先级。下面同样我们结合实例进行讲解。\n"
   ]
  },
  {
   "cell_type": "raw",
   "metadata": {},
   "source": [
    "函数寻址下标一\n",
    "幂运算小二笑嘻嘻\n",
    "全体单元第三位  #指对一个对象的运算符比如翻转运算、正负号\n",
    "乘除求余四千里\n",
    "\n",
    "乘除完了五加减\n",
    "六娃玩耍左右移\n",
    "七十按位或跟与     #同时包括亦或\n",
    "八仙生气要比高低   #比较运算\n",
    "倒数第一逻辑或与非"
   ]
  },
  {
   "cell_type": "markdown",
   "metadata": {},
   "source": [
    "###Python优先级使用的小技巧"
   ]
  },
  {
   "cell_type": "markdown",
   "metadata": {},
   "source": [
    "如果我们实在有时候想不起来Python的优先级了，我们可以运用加括号的技巧来使用我们的优先级，下面我们进行实例讲解。\n"
   ]
  },
  {
   "cell_type": "code",
   "execution_count": 47,
   "metadata": {
    "collapsed": false
   },
   "outputs": [
    {
     "name": "stdout",
     "output_type": "stream",
     "text": [
      "42\n",
      "72\n"
     ]
    }
   ],
   "source": [
    "#如果实在分不清哪个优先级高哪个优先级低也没关系，只要用（）改变优先级即可\n",
    "a=(2+5)*6\n",
    "print a\n",
    "\n",
    "b=((2+5)+5)*6\n",
    "print b"
   ]
  },
  {
   "cell_type": "markdown",
   "metadata": {},
   "source": [
    "##4、认识Python表达式"
   ]
  },
  {
   "cell_type": "markdown",
   "metadata": {},
   "source": [
    "###什么是Python的表达式"
   ]
  },
  {
   "cell_type": "markdown",
   "metadata": {},
   "source": [
    "Python中我们在编程的时候，值、变量和运算符共同组成的整体我们将其称为表达式。比如\"ok\"、a=5、a=\"hello my girl\"这些等等都是表达式。我们下面通过实例进行讲解。\n"
   ]
  },
  {
   "cell_type": "code",
   "execution_count": 50,
   "metadata": {
    "collapsed": false
   },
   "outputs": [
    {
     "name": "stdout",
     "output_type": "stream",
     "text": [
      "67\n",
      "hello\n"
     ]
    }
   ],
   "source": [
    "#什么是表达式\n",
    "#1\n",
    "\"hello\"\n",
    "\n",
    "#2\n",
    "25+7\n",
    "\n",
    "\n",
    "#3\n",
    "a=67\n",
    "print a\n",
    "\n",
    "\n",
    "#4\n",
    "a=\"hello\"\n",
    "print a"
   ]
  },
  {
   "cell_type": "markdown",
   "metadata": {},
   "source": [
    "###表达式的使用"
   ]
  },
  {
   "cell_type": "markdown",
   "metadata": {},
   "source": [
    "在Python中表达式的使用有一些特点，下面分别通过表达式在单行命令行中的使用与表达式在源程序中的使用两个方面进行实例讲解。其中表达式在单行命令行中的使用我们分别通过值表达式、变量表达式、计算表达式、字符串表达式等几种类型的表达式来讲解。下面我们进行实例演示。\n"
   ]
  },
  {
   "cell_type": "code",
   "execution_count": 51,
   "metadata": {
    "collapsed": false
   },
   "outputs": [
    {
     "data": {
      "text/plain": [
       "8"
      ]
     },
     "execution_count": 51,
     "metadata": {},
     "output_type": "execute_result"
    }
   ],
   "source": [
    "#值表达式\n",
    "8"
   ]
  },
  {
   "cell_type": "code",
   "execution_count": 52,
   "metadata": {
    "collapsed": false
   },
   "outputs": [
    {
     "data": {
      "text/plain": [
       "15"
      ]
     },
     "execution_count": 52,
     "metadata": {},
     "output_type": "execute_result"
    }
   ],
   "source": [
    "#计算表达式\n",
    "7+8"
   ]
  },
  {
   "cell_type": "code",
   "execution_count": 53,
   "metadata": {
    "collapsed": false
   },
   "outputs": [
    {
     "data": {
      "text/plain": [
       "'My'"
      ]
     },
     "execution_count": 53,
     "metadata": {},
     "output_type": "execute_result"
    }
   ],
   "source": [
    "#字符串表达式\n",
    "'My'"
   ]
  },
  {
   "cell_type": "code",
   "execution_count": 56,
   "metadata": {
    "collapsed": false
   },
   "outputs": [
    {
     "name": "stdout",
     "output_type": "stream",
     "text": [
      "ok\n"
     ]
    }
   ],
   "source": [
    "#变量表达式\n",
    "a='ok'\n",
    "print a "
   ]
  },
  {
   "cell_type": "markdown",
   "metadata": {},
   "source": [
    "###表达式执行与print执行结果的区别"
   ]
  },
  {
   "cell_type": "markdown",
   "metadata": {},
   "source": [
    "Python中的表达式执行的结果跟打印(print)的结果是有区别的，下面我们进行实例讲解。\n"
   ]
  },
  {
   "cell_type": "code",
   "execution_count": 15,
   "metadata": {
    "collapsed": false
   },
   "outputs": [
    {
     "data": {
      "text/plain": [
       "'QQ'"
      ]
     },
     "execution_count": 15,
     "metadata": {},
     "output_type": "execute_result"
    }
   ],
   "source": [
    "'QQ'"
   ]
  },
  {
   "cell_type": "code",
   "execution_count": 16,
   "metadata": {
    "collapsed": false
   },
   "outputs": [
    {
     "name": "stdout",
     "output_type": "stream",
     "text": [
      "QQ\n"
     ]
    }
   ],
   "source": [
    "print 'QQ'"
   ]
  },
  {
   "cell_type": "code",
   "execution_count": 17,
   "metadata": {
    "collapsed": false
   },
   "outputs": [
    {
     "data": {
      "text/plain": [
       "7"
      ]
     },
     "execution_count": 17,
     "metadata": {},
     "output_type": "execute_result"
    }
   ],
   "source": [
    "a=7\n",
    "a"
   ]
  },
  {
   "cell_type": "code",
   "execution_count": 19,
   "metadata": {
    "collapsed": false
   },
   "outputs": [
    {
     "name": "stdout",
     "output_type": "stream",
     "text": [
      "7\n"
     ]
    }
   ],
   "source": [
    "a=7\n",
    "print a"
   ]
  }
 ],
 "metadata": {
  "kernelspec": {
   "display_name": "Python 3",
   "language": "python",
   "name": "python3"
  },
  "language_info": {
   "codemirror_mode": {
    "name": "ipython",
    "version": 3
   },
   "file_extension": ".py",
   "mimetype": "text/x-python",
   "name": "python",
   "nbconvert_exporter": "python",
   "pygments_lexer": "ipython3",
   "version": "3.6.0"
  }
 },
 "nbformat": 4,
 "nbformat_minor": 0
}
