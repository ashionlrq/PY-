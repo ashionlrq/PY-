{
 "cells": [
  {
   "cell_type": "markdown",
   "metadata": {},
   "source": [
    "# Python语法基础 — 课程概要\n",
    "***\n",
    "本节预览：\n",
    "#Python常量与变量\n",
    "#Python数与字符串\n",
    "#Python数据类型\n",
    "#认识Python标识符\n",
    "#Pyhon对象\n",
    "#Python行与缩进"
   ]
  },
  {
   "cell_type": "markdown",
   "metadata": {},
   "source": [
    "# 体验Python"
   ]
  },
  {
   "cell_type": "code",
   "execution_count": 10,
   "metadata": {
    "collapsed": false
   },
   "outputs": [
    {
     "name": "stdout",
     "output_type": "stream",
     "text": [
      "100\n",
      "test\n",
      "1 1 1\n"
     ]
    }
   ],
   "source": [
    "a=100\n",
    "print a\n",
    "b='test'\n",
    "print b\n",
    "z=y=x=1\n",
    "print x,y,z"
   ]
  },
  {
   "cell_type": "markdown",
   "metadata": {},
   "source": [
    "参考资料：\n",
    "http://www.cnblogs.com/Peter-Zhang/archive/2011/12/25/2300187.html\n",
    "http://www.yiibai.com/python/python_basic_syntax.html"
   ]
  },
  {
   "cell_type": "markdown",
   "metadata": {},
   "source": [
    "# 1、Python常量与变量"
   ]
  },
  {
   "cell_type": "markdown",
   "metadata": {},
   "source": [
    "本课时包括以下知识点：\n",
    "\t·常量的概念\n",
    "\t·常量的应用\n",
    "\t·什么是变量\n",
    "\t·赋值\n",
    "\t·变量的应用\n",
    "Python的常量主要是指在程序运行的过程中不可变的量，Python的变量主要是指\n",
    "在程序执行的过程中可以改变的量。"
   ]
  },
  {
   "cell_type": "markdown",
   "metadata": {},
   "source": [
    "### Python常量与变量 — 常量的概念"
   ]
  },
  {
   "cell_type": "markdown",
   "metadata": {},
   "source": [
    "Python中在程序运行时不会被更改的量称之为常量，比如数字7和字符串\"abc\"在运行时一直都是数字7跟字符串\"abc\"，不会更改成其他的量，这些就是常量，除此之外，还可以定义任意的字符串为指定值的常量。\n",
    "常量有一个特点，就是：一旦绑定，不能更改。"
   ]
  },
  {
   "cell_type": "markdown",
   "metadata": {},
   "source": [
    "Python常量与变量 — 常量的应用\n",
    "在Python中是不能够像C等其他编程语言一样通过const来定义常量的，在Python中定义常量需要用对象的方法来创建，是通过元组来实现常量的功能的，此处先省略。"
   ]
  },
  {
   "cell_type": "markdown",
   "metadata": {},
   "source": [
    "### Python常量与变量 — 什么是变量"
   ]
  },
  {
   "cell_type": "markdown",
   "metadata": {},
   "source": [
    "Python中在程序运行时可以随着程序的运行更改的量称之为变量，比如我们可以定义一个变量i，并将数字5赋给变量i，然后再将数字7再赋给变量i，那么这个时候i的值就变成了7，i的值是可以改变的。那么像i这种可以改变值的量称之为变量。\n",
    "变量有一个特点，就是：即使赋值，也可以更改。"
   ]
  },
  {
   "cell_type": "code",
   "execution_count": 2,
   "metadata": {
    "collapsed": false
   },
   "outputs": [
    {
     "name": "stdout",
     "output_type": "stream",
     "text": [
      "7\n"
     ]
    }
   ],
   "source": [
    "i=7\n",
    "print i"
   ]
  },
  {
   "cell_type": "markdown",
   "metadata": {},
   "source": [
    "Python常量与变量 — 赋值\n",
    "在学习变量的应用之前，我们首先要学习刚才我们提到的赋值。\n",
    "我们下面打开Python的编辑器进行实战讲解。"
   ]
  },
  {
   "cell_type": "code",
   "execution_count": 3,
   "metadata": {
    "collapsed": false
   },
   "outputs": [
    {
     "name": "stdout",
     "output_type": "stream",
     "text": [
      "5\n",
      "6\n",
      "8\n",
      "11\n"
     ]
    }
   ],
   "source": [
    "i=5\n",
    "print i\n",
    "i+=1\n",
    "print i\n",
    "i+=2\n",
    "print i\n",
    "i+=3\n",
    "print i"
   ]
  },
  {
   "cell_type": "markdown",
   "metadata": {},
   "source": [
    "## 2、Python数与字符串"
   ]
  },
  {
   "cell_type": "raw",
   "metadata": {},
   "source": [
    "本课时包括以下知识点：\n",
    "·了解数的类型\n",
    "·什么是字符串\n",
    "·引号的使用与区别\n",
    "·转义符\n",
    "·自然字符串\n",
    "·字符串的重复\n",
    "·子字符串\n"
   ]
  },
  {
   "cell_type": "raw",
   "metadata": {},
   "source": [
    "Python数与字符串 — 了解数的类型\n",
    "Python中数的类型主要有5种，分为有符号整数型(int)，长整型(long)，浮点型\n",
    "(float)，布尔型(bool)，复数型(complex)。\n",
    "例如：0、1、-1、1009、-290这些等等都是int型。\n",
    "例如：87887l、-90990l、234567l这些等等都是long型。\n",
    "例如：2.7788、3.277、8.88这些等等都是float型。\n",
    "bool型只有两个：一个是True、一个是False。\n",
    "例如：4+2j、-9+20j、56+7j这种类型属于复数类型。\n"
   ]
  },
  {
   "cell_type": "markdown",
   "metadata": {},
   "source": [
    "### Python数与字符串 — 什么是字符串"
   ]
  },
  {
   "cell_type": "markdown",
   "metadata": {},
   "source": [
    "在Python中用引号引起来的字符集称之为字符串，比如：'hello'、\"my Python\"、\"2+3\"等都是字符串"
   ]
  },
  {
   "cell_type": "markdown",
   "metadata": {},
   "source": [
    "Python中字符串中使用的引号可以是单引号、双引号跟三引号。但是他们的使用是不同的。下面我们进行实例讲解。\n"
   ]
  },
  {
   "cell_type": "code",
   "execution_count": 16,
   "metadata": {
    "collapsed": false
   },
   "outputs": [
    {
     "name": "stdout",
     "output_type": "stream",
     "text": [
      "2ght\n",
      "It is a \"dog\"!\n"
     ]
    }
   ],
   "source": [
    "#单引号\n",
    "c1='2ght'\n",
    "print c1\n",
    "c2='It is a \"dog\"!'\n",
    "print c2"
   ]
  },
  {
   "cell_type": "code",
   "execution_count": 22,
   "metadata": {
    "collapsed": false
   },
   "outputs": [
    {
     "ename": "TypeError",
     "evalue": "'str' object does not support item assignment",
     "output_type": "error",
     "traceback": [
      "\u001b[1;31m---------------------------------------------------------------------------\u001b[0m",
      "\u001b[1;31mTypeError\u001b[0m                                 Traceback (most recent call last)",
      "\u001b[1;32m<ipython-input-22-c0f11db241b6>\u001b[0m in \u001b[0;36m<module>\u001b[1;34m()\u001b[0m\n\u001b[1;32m----> 1\u001b[1;33m \u001b[0mc1\u001b[0m\u001b[1;33m[\u001b[0m\u001b[1;36m0\u001b[0m\u001b[1;33m]\u001b[0m\u001b[1;33m=\u001b[0m\u001b[1;34m'a'\u001b[0m\u001b[1;33m\u001b[0m\u001b[0m\n\u001b[0m",
      "\u001b[1;31mTypeError\u001b[0m: 'str' object does not support item assignment"
     ]
    }
   ],
   "source": [
    "c1[0]='a' #此用法错误"
   ]
  },
  {
   "cell_type": "code",
   "execution_count": 12,
   "metadata": {
    "collapsed": false
   },
   "outputs": [
    {
     "name": "stdout",
     "output_type": "stream",
     "text": [
      "2ght\n",
      "It's a dog!\n"
     ]
    }
   ],
   "source": [
    "#双引号\n",
    "c1=\"2ght\"\n",
    "print c1\n",
    "c2=\"It's a dog!\"\n",
    "print c2"
   ]
  },
  {
   "cell_type": "code",
   "execution_count": 13,
   "metadata": {
    "collapsed": false
   },
   "outputs": [
    {
     "name": "stdout",
     "output_type": "stream",
     "text": [
      "he\n",
      "she\n",
      "my\n",
      "you are\n",
      "hello\n"
     ]
    }
   ],
   "source": [
    "#三引号\n",
    "c1=\"\"\"he\n",
    "she\n",
    "my\n",
    "you are\n",
    "hello\"\"\"\n",
    "print c1\n"
   ]
  },
  {
   "cell_type": "markdown",
   "metadata": {},
   "source": [
    "在Python里面，如果需要输出一个It's a dog!这样的字符串，我们应该如何编写Python程序呢？有两种方法，一种方法是用我们刚才的单双引号间插使用的方法，即print \"It's a dog!\",用双引号来包含有单引号的字符串。那么还有其他的方法么？我们可以使用转义符\\。那么下面我们进行实例讲解。\n"
   ]
  },
  {
   "cell_type": "code",
   "execution_count": 5,
   "metadata": {
    "collapsed": false
   },
   "outputs": [
    {
     "name": "stdout",
     "output_type": "stream",
     "text": [
      "It's a dog!\n",
      "hello boy\n",
      "hello boy\n"
     ]
    }
   ],
   "source": [
    "#转义符\n",
    "print 'It\\'s a dog!'\n",
    "\n",
    "print \"hello boy\\nhello boy\"\n"
   ]
  },
  {
   "cell_type": "markdown",
   "metadata": {},
   "source": [
    "在Python里面，如果我们的一串字符串即使有转义符，也需要将他原样保留，不进行任何处理，我们可以使用自然字符串，即在字符串前加上r。下面进行实例讲解。\n"
   ]
  },
  {
   "cell_type": "code",
   "execution_count": 4,
   "metadata": {
    "collapsed": false
   },
   "outputs": [
    {
     "name": "stdout",
     "output_type": "stream",
     "text": [
      "hello boy\n",
      "hello boy\n",
      "hello boy\\nhello boy\n"
     ]
    }
   ],
   "source": [
    "#自然字符串\n",
    "print \"hello boy\\nhello boy\"\n",
    "\n",
    "print r\"hello boy\\nhello boy\""
   ]
  },
  {
   "cell_type": "markdown",
   "metadata": {},
   "source": [
    "如果我们要将一个字符串重复的输出，我们可以手动输入外，还可以使用字符串的重复运算符。比如，我们要将hello重复输出20次，我们可以使用\"hello\"*20这种运算方法进行由计算机自动执行重复输出指令。"
   ]
  },
  {
   "cell_type": "code",
   "execution_count": 23,
   "metadata": {
    "collapsed": false
   },
   "outputs": [
    {
     "name": "stdout",
     "output_type": "stream",
     "text": [
      "我是帅哥\n",
      "我是帅哥\n",
      "我是帅哥\n",
      "我是帅哥\n",
      "我是帅哥\n",
      "我是帅哥\n",
      "我是帅哥\n",
      "我是帅哥\n",
      "我是帅哥\n",
      "我是帅哥\n",
      "我是帅哥\n",
      "我是帅哥\n",
      "我是帅哥\n",
      "我是帅哥\n",
      "我是帅哥\n",
      "我是帅哥\n",
      "我是帅哥\n",
      "我是帅哥\n",
      "我是帅哥\n",
      "我是帅哥\n",
      "\n"
     ]
    }
   ],
   "source": [
    "#字符串的重复\n",
    "print \"我是帅哥\\n\"*20"
   ]
  },
  {
   "cell_type": "markdown",
   "metadata": {},
   "source": [
    "我们在编程的时候，比如字符串\"zhongqing\"中的\"zhong\"、\"qing\"这些等都是\"zhongqing\"的子字符串。如果我们想取一个字符串中的子字符串出来，就要进行子字符串运算。而子字符串的运算方法主要有两种，一种是索引运算法[],另一种是切片运算法[:]，那么下面我们分别进行案例讲解。\n"
   ]
  },
  {
   "cell_type": "code",
   "execution_count": 35,
   "metadata": {
    "collapsed": false
   },
   "outputs": [
    {
     "name": "stdout",
     "output_type": "stream",
     "text": [
      "z n zh ongqing gqi g\n"
     ]
    }
   ],
   "source": [
    "#子字符串\n",
    "#索引运算符从0开始索引\n",
    "#切片运算符[a:b]是指从第a下标开始到第b-1下标。同样第一位的下标为0.\n",
    "c1=\"zhongqing\"\n",
    "c2=c1[0]\n",
    "c3=c1[7]\n",
    "c4=c1[:2]\n",
    "c5=c1[2:]\n",
    "c6=c1[4:7]\n",
    "c7=c1[-1]\n",
    "print c2, c3, c4, c5, c6,c7"
   ]
  },
  {
   "cell_type": "markdown",
   "metadata": {},
   "source": [
    "## 3、Python数据类型"
   ]
  },
  {
   "cell_type": "markdown",
   "metadata": {},
   "source": [
    "本课时包括以下知识点：\n",
    "·基本数据类型\n",
    "·列表\n",
    "·元组\n",
    "·集合\n",
    "·字典\n"
   ]
  },
  {
   "cell_type": "markdown",
   "metadata": {},
   "source": [
    "### 列表"
   ]
  },
  {
   "cell_type": "markdown",
   "metadata": {},
   "source": [
    "在Python中没有数组的概念，Python中跟数组最接近的概念就是列表和元组，我们先说列表。列表就是用来存储一连串元素的容器。列表用[]来表示，比如说，一个班里面有30个学生，我们需要将30个学生安排到一间教室里面上课，如果把30个学生分别比作元素，那么这个教室就是数组。30个学生是按座位坐好，有序排列的，在数组中的元素也是有序排列的。那么下面我们来进行实例讲解。\n"
   ]
  },
  {
   "cell_type": "code",
   "execution_count": 38,
   "metadata": {
    "collapsed": false
   },
   "outputs": [
    {
     "name": "stdout",
     "output_type": "stream",
     "text": [
      "3\n",
      "3\n",
      "小李\n"
     ]
    }
   ],
   "source": [
    "#列表\n",
    "students=[\"小明\",\"小华\",\"小李\",\"小娟\",\"小云\",3]\n",
    "print students[len(students)-1]\n",
    "print students[-1]\n",
    "print students[2]"
   ]
  },
  {
   "cell_type": "code",
   "execution_count": 43,
   "metadata": {
    "collapsed": false
   },
   "outputs": [
    {
     "name": "stdout",
     "output_type": "stream",
     "text": [
      "小娟\n",
      "小月\n",
      "小楠\n",
      "19978\n",
      "['\\xe5\\xb0\\x8f\\xe6\\x98\\x8e', '\\xe5\\xb0\\x8f\\xe5\\x8d\\x8e', '\\xe5\\xb0\\x8f\\xe6\\x9d\\x8e', '\\xe5\\xb0\\x8f\\xe6\\x9c\\x88', '\\xe5\\xb0\\x8f\\xe4\\xba\\x91', 19978]\n"
     ]
    }
   ],
   "source": [
    "#列表2\n",
    "students=[\"小明\",\"小华\",\"小李\",\"小娟\",\"小云\",3]\n",
    "print students[3]\n",
    "\n",
    "students[3]=\"小月\"\n",
    "print students[3]\n",
    "\n",
    "students[5]=\"小楠\"\n",
    "print students[5]\n",
    "\n",
    "students[5]=19978\n",
    "print students[5]\n",
    "\n",
    "print students "
   ]
  },
  {
   "cell_type": "markdown",
   "metadata": {},
   "source": [
    "### 元组"
   ]
  },
  {
   "cell_type": "markdown",
   "metadata": {},
   "source": [
    "Python中跟数组类似的除了列表之外还有元组。元组里面的元素也是进行索引计算。但是列表跟元组有什么区别呢？一是列表里面的元素的值可以修改，而元组里面的元素的值不能修改，只能读取。区别二是列表的符号是[],而元组的符号是（）。下面我们进行实例演示。\n"
   ]
  },
  {
   "cell_type": "code",
   "execution_count": 41,
   "metadata": {
    "collapsed": false
   },
   "outputs": [
    {
     "name": "stdout",
     "output_type": "stream",
     "text": [
      "小军\n"
     ]
    }
   ],
   "source": [
    "#元组\n",
    "students=(\"小明\",\"小军\",\"小强\",\"小武\",\"小龙\")\n",
    "print students[1]"
   ]
  },
  {
   "cell_type": "code",
   "execution_count": 42,
   "metadata": {
    "collapsed": false
   },
   "outputs": [
    {
     "ename": "TypeError",
     "evalue": "'tuple' object does not support item assignment",
     "output_type": "error",
     "traceback": [
      "\u001b[1;31m---------------------------------------------------------------------------\u001b[0m",
      "\u001b[1;31mTypeError\u001b[0m                                 Traceback (most recent call last)",
      "\u001b[1;32m<ipython-input-42-8d35072e0988>\u001b[0m in \u001b[0;36m<module>\u001b[1;34m()\u001b[0m\n\u001b[0;32m      2\u001b[0m \u001b[0mstudents\u001b[0m\u001b[1;33m=\u001b[0m\u001b[1;33m(\u001b[0m\u001b[1;34m\"小明\"\u001b[0m\u001b[1;33m,\u001b[0m\u001b[1;34m\"小军\"\u001b[0m\u001b[1;33m,\u001b[0m\u001b[1;34m\"小强\"\u001b[0m\u001b[1;33m,\u001b[0m\u001b[1;34m\"小武\"\u001b[0m\u001b[1;33m,\u001b[0m\u001b[1;34m\"小龙\"\u001b[0m\u001b[1;33m)\u001b[0m\u001b[1;33m\u001b[0m\u001b[0m\n\u001b[0;32m      3\u001b[0m \u001b[1;33m\u001b[0m\u001b[0m\n\u001b[1;32m----> 4\u001b[1;33m \u001b[0mstudents\u001b[0m\u001b[1;33m[\u001b[0m\u001b[1;36m1\u001b[0m\u001b[1;33m]\u001b[0m\u001b[1;33m=\u001b[0m\u001b[1;34m\"小云\"\u001b[0m\u001b[1;33m\u001b[0m\u001b[0m\n\u001b[0m\u001b[0;32m      5\u001b[0m \u001b[1;32mprint\u001b[0m \u001b[0mstudents\u001b[0m\u001b[1;33m[\u001b[0m\u001b[1;36m1\u001b[0m\u001b[1;33m]\u001b[0m\u001b[1;33m\u001b[0m\u001b[0m\n",
      "\u001b[1;31mTypeError\u001b[0m: 'tuple' object does not support item assignment"
     ]
    }
   ],
   "source": [
    "#元组\n",
    "students=(\"小明\",\"小军\",\"小强\",\"小武\",\"小龙\")\n",
    "\n",
    "students[1]=\"小云\"\n",
    "print students[1]"
   ]
  },
  {
   "cell_type": "markdown",
   "metadata": {},
   "source": [
    "### 集合"
   ]
  },
  {
   "cell_type": "markdown",
   "metadata": {},
   "source": [
    "Python中集合主要有两个功能，一个功能是进行集合操作，另一个功能是消除重复元素。\n",
    "集合的格式是：set(元素)\n"
   ]
  },
  {
   "cell_type": "code",
   "execution_count": 47,
   "metadata": {
    "collapsed": false,
    "scrolled": true
   },
   "outputs": [
    {
     "name": "stdout",
     "output_type": "stream",
     "text": [
      "set(['c', 'm'])\n",
      "set(['a', 'c', 'b', 'g', 'm', 'n', 's'])\n",
      "set(['a', 'c', 'b', 'd', 'g', 'f', 'm', 'n', 's'])\n",
      "set(['a', 's', 'b', 'g', 'n'])\n",
      "set(['a', 'c', 'b', 'g', 'm', 's', 'n'])\n"
     ]
    }
   ],
   "source": [
    "a=set(\"abcnmaaaaggsng\")\n",
    "b=set(\"cdfm\")\n",
    "#交集\n",
    "x=a&b \n",
    "print x\n",
    "print a \n",
    "#并集\n",
    "y=a|b\n",
    "print y \n",
    "#差集\n",
    "z=a-b\n",
    "print z \n",
    "#去除重复元素\n",
    "new=set(a)\n",
    "print new"
   ]
  },
  {
   "cell_type": "markdown",
   "metadata": {},
   "source": [
    "### 字典"
   ]
  },
  {
   "cell_type": "markdown",
   "metadata": {},
   "source": [
    "Python中的字典也叫做关联数组，用大括号{}括起来。格式是这样的：zidian={'name':'weiwei','home':'guilin','like':'music'}我们可以这样理解：字典里面其实包含的是一整个事情，这个事情里面分别包括各种方面的具体信息。比如我们刚才这个，包含了name方面、home方面、like方面的具体信息，其中name方面的值为weiwei，home方面的值为guilin，以及like方面的值为music。下面我们进行实例讲解。\n"
   ]
  },
  {
   "cell_type": "code",
   "execution_count": 49,
   "metadata": {
    "collapsed": false
   },
   "outputs": [
    {
     "name": "stdout",
     "output_type": "stream",
     "text": [
      "桂林\n",
      "韦玮\n",
      "音乐\n"
     ]
    }
   ],
   "source": [
    "#字典\n",
    "k={\"姓名\":\"韦玮\",\"籍贯\":\"桂林\"}\n",
    "print k[\"籍贯\"]\n",
    "\n",
    "#添加字典里面的项目\n",
    "k[\"爱好\"]=\"音乐\"\n",
    "print k[\"姓名\"]\n",
    "print k[\"爱好\"]"
   ]
  },
  {
   "cell_type": "markdown",
   "metadata": {},
   "source": [
    "## 4、认识Python标识符"
   ]
  },
  {
   "cell_type": "markdown",
   "metadata": {},
   "source": [
    "本课时包括以下知识点：\n",
    "·什么是标识符\n",
    "·标识符命名原则\n",
    "·常用Python关键字\n"
   ]
  },
  {
   "cell_type": "markdown",
   "metadata": {},
   "source": [
    "Python中我们在编程的时候，起的名字就叫做标识符。其中变量和常量就是标识符的一种。\n",
    "在Python中标识符的命名是有规则的。按正确命名规则命名的可以使用的标识符叫做有效标识符，否则不能使用的标识符叫做无效标识符。有效标识符命名有以下几点规范：标识符第一个字符必须只能是字母或下划线，第一个字符不能出现数字或其他字符；标识符除第一个字符外，其他部分可以是字母或者下划线或者数字；标识符大小写敏感，比如name跟Name是不同的标识符。\n"
   ]
  },
  {
   "cell_type": "markdown",
   "metadata": {},
   "source": [
    "### 常用Python关键字"
   ]
  },
  {
   "cell_type": "markdown",
   "metadata": {},
   "source": [
    "Python中的关键字是指系统中自带的具备特定含义的标识符。常用的Python关键字主要有：and，elif，global，or，else，pass，break，continue，import，class，return，for，while。下面简单举两个关键字的实例。\n"
   ]
  },
  {
   "cell_type": "code",
   "execution_count": 51,
   "metadata": {
    "collapsed": false
   },
   "outputs": [
    {
     "name": "stdout",
     "output_type": "stream",
     "text": [
      "['and', 'as', 'assert', 'break', 'class', 'continue', 'def', 'del', 'elif', 'else', 'except', 'exec', 'finally', 'for', 'from', 'global', 'if', 'import', 'in', 'is', 'lambda', 'not', 'or', 'pass', 'print', 'raise', 'return', 'try', 'while', 'with', 'yield']\n",
      "<function main at 0x0000000002297518>\n"
     ]
    }
   ],
   "source": [
    "#常用关键字\n",
    "#查看一下关键字有哪些\n",
    "import keyword\n",
    "print keyword.kwlist\n",
    "print keyword.main # 体会jupter自动完成功能"
   ]
  },
  {
   "cell_type": "markdown",
   "metadata": {},
   "source": [
    "## 5、Python对象"
   ]
  },
  {
   "cell_type": "markdown",
   "metadata": {},
   "source": [
    "Python的内置的对象类型主要有数字、字符串、列表、元组、字典、集合等等。其实，在Python中，一切皆为对象，我们后面会给大家讲解面向对象的知识。\n"
   ]
  },
  {
   "cell_type": "markdown",
   "metadata": {},
   "source": [
    "## 6、Python行与缩进"
   ]
  },
  {
   "cell_type": "markdown",
   "metadata": {},
   "source": [
    "本课时包括以下知识点：\n",
    "·了解逻辑行与物理行\n",
    "·行中分号使用规则\n",
    "·行连接\n",
    "·什么是缩进\n",
    "·如何缩进\n",
    "·注释\n"
   ]
  },
  {
   "cell_type": "markdown",
   "metadata": {},
   "source": [
    "### 了解逻辑行与物理行"
   ]
  },
  {
   "cell_type": "markdown",
   "metadata": {},
   "source": [
    "Python中逻辑行主要是指一段代码，在意义上它的行数，而物理行，指的是我们实际看到中的行数。下面我们分别看一些实例。\n"
   ]
  },
  {
   "cell_type": "code",
   "execution_count": 53,
   "metadata": {
    "collapsed": false
   },
   "outputs": [
    {
     "name": "stdout",
     "output_type": "stream",
     "text": [
      "abc\n",
      "789\n",
      "777\n",
      "abc\n",
      "789\n",
      "777\n",
      "我是帅哥\n",
      "王老师很帅\n",
      "这是Python教程！\n"
     ]
    }
   ],
   "source": [
    "#逻辑行与物理行\n",
    "\n",
    "#以下是3个物理行\n",
    "print \"abc\"\n",
    "print \"789\"\n",
    "print \"777\"\n",
    "\n",
    "#以下是1个物理行，3个逻辑行\n",
    "print \"abc\";print \"789\";print \"777\"\n",
    "\n",
    "#以下是1个逻辑行，3个物理行\n",
    "print '''我是帅哥\n",
    "王老师很帅\n",
    "这是Python教程！'''"
   ]
  },
  {
   "cell_type": "markdown",
   "metadata": {},
   "source": [
    "### 行中分号使用规则"
   ]
  },
  {
   "cell_type": "markdown",
   "metadata": {},
   "source": [
    "在Python中一个物理行一般可以包含多个逻辑行，在一个物理行中编写多个逻辑行的时候，逻辑行与逻辑行之间用分号隔开。每个逻辑行的后面必须是有一个分号的，但是我们在编写程序的时候，如果一个逻辑行占了一个物理行的最后，这个逻辑行可以省略分号。我们具体看一些实例"
   ]
  },
  {
   "cell_type": "code",
   "execution_count": 5,
   "metadata": {
    "collapsed": false
   },
   "outputs": [
    {
     "name": "stdout",
     "output_type": "stream",
     "text": [
      "123\n",
      "456\n",
      "777\n",
      "123\n",
      "456\n",
      "777\n"
     ]
    }
   ],
   "source": [
    "#分号使用规则\n",
    "\n",
    "#所有的逻辑行后均应使用分号\n",
    "print \"123\";print \"456\";\n",
    "print \"777\";\n",
    "\n",
    "#分号可以省略的条件是指：每个物理行的行末可以省略分号,当然也可以不省略分号。\n",
    "print \"123\";print \"456\"  # 这里的分号可以省略，也可以不省略\n",
    "print \"777\"              # 这里的分号可以省略，也可以不省略"
   ]
  },
  {
   "cell_type": "markdown",
   "metadata": {},
   "source": [
    "### 行连接"
   ]
  },
  {
   "cell_type": "markdown",
   "metadata": {},
   "source": [
    "我们已经知道，多个逻辑行可以写在一个物理行中，那么我们可不可以将一个逻辑行分别写在多个物理行中呢？可以的，但是我们必须使用行连接。行连接的方法是在行的最后加上一个\\符号，下面我们看实例。\n"
   ]
  },
  {
   "cell_type": "code",
   "execution_count": 8,
   "metadata": {
    "collapsed": false
   },
   "outputs": [
    {
     "name": "stdout",
     "output_type": "stream",
     "text": [
      "7\n"
     ]
    }
   ],
   "source": [
    "i=7\n",
    "print (\\\n",
    "i)"
   ]
  },
  {
   "cell_type": "markdown",
   "metadata": {},
   "source": [
    "### 缩进"
   ]
  },
  {
   "cell_type": "markdown",
   "metadata": {},
   "source": [
    "在Python中，逻辑行行首的空白是有规定的，逻辑行行首的空白不对，就会导致程序执行出错。这是跟其他语言一个很重要的不同点。下面我们看一下实例。\n"
   ]
  },
  {
   "cell_type": "code",
   "execution_count": 11,
   "metadata": {
    "collapsed": false
   },
   "outputs": [
    {
     "name": "stdout",
     "output_type": "stream",
     "text": [
      "123\n"
     ]
    }
   ],
   "source": [
    "#什么是缩进\n",
    "print(123)"
   ]
  },
  {
   "cell_type": "markdown",
   "metadata": {},
   "source": [
    "缩进的空白有要求的，那么下面我们分别讲一些缩进的方法：\n",
    "1、一般情况下逻辑行首不应该出现空白。\n",
    "2、if语句的缩进方法。\n",
    "3、while循环的缩进方法。\n"
   ]
  },
  {
   "cell_type": "code",
   "execution_count": 55,
   "metadata": {
    "collapsed": false
   },
   "outputs": [
    {
     "name": "stdout",
     "output_type": "stream",
     "text": [
      "hello\n",
      "0\n",
      "1\n",
      "2\n",
      "3\n",
      "4\n",
      "5\n",
      "6\n"
     ]
    }
   ],
   "source": [
    "#如何缩进\n",
    "\n",
    "#一般情况下，行首应该不留空白\n",
    "import sys\n",
    "\n",
    "#缩进的方法有两种，可以按空格，也可以按tab键\n",
    "\n",
    "\n",
    "#if语句的缩进方法\n",
    "a=7\n",
    "if a>0:\n",
    "    print \"hello\"\n",
    "\n",
    "#while语句的缩进方法\n",
    "a=0\n",
    "while a<7:\n",
    "    print a  # 思考下a为什么不包含7\n",
    "    a+=1\n",
    "\n"
   ]
  },
  {
   "cell_type": "markdown",
   "metadata": {},
   "source": [
    "### 注释"
   ]
  },
  {
   "cell_type": "markdown",
   "metadata": {},
   "source": [
    "Python中的注释一般用#进行注释，从#开始，一直到一行（物理行）结束的部分，都是注释。\n"
   ]
  },
  {
   "cell_type": "code",
   "execution_count": 56,
   "metadata": {
    "collapsed": false
   },
   "outputs": [
    {
     "ename": "NameError",
     "evalue": "name 'xx' is not defined",
     "output_type": "error",
     "traceback": [
      "\u001b[1;31m---------------------------------------------------------------------------\u001b[0m",
      "\u001b[1;31mNameError\u001b[0m                                 Traceback (most recent call last)",
      "\u001b[1;32m<ipython-input-56-ab6464a18e18>\u001b[0m in \u001b[0;36m<module>\u001b[1;34m()\u001b[0m\n\u001b[0;32m      1\u001b[0m \u001b[1;31m#xx=7\u001b[0m\u001b[1;33m\u001b[0m\u001b[1;33m\u001b[0m\u001b[0m\n\u001b[1;32m----> 2\u001b[1;33m \u001b[1;32mprint\u001b[0m \u001b[0mxx\u001b[0m\u001b[1;33m\u001b[0m\u001b[0m\n\u001b[0m",
      "\u001b[1;31mNameError\u001b[0m: name 'xx' is not defined"
     ]
    }
   ],
   "source": [
    "#xx=7\n",
    "print xx"
   ]
  },
  {
   "cell_type": "code",
   "execution_count": 13,
   "metadata": {
    "collapsed": false,
    "scrolled": true
   },
   "outputs": [
    {
     "name": "stdout",
     "output_type": "stream",
     "text": [
      "\n",
      "xxx=2\n",
      "print xxx\n",
      "\n"
     ]
    }
   ],
   "source": [
    "a='''\n",
    "xxx=2\n",
    "print xxx\n",
    "'''\n",
    "print (a)"
   ]
  },
  {
   "cell_type": "markdown",
   "metadata": {},
   "source": [
    "# 拓展：文本展示(编码)"
   ]
  },
  {
   "cell_type": "code",
   "execution_count": 14,
   "metadata": {
    "collapsed": false
   },
   "outputs": [
    {
     "name": "stdout",
     "output_type": "stream",
     "text": [
      "我是帅哥\n"
     ]
    }
   ],
   "source": [
    "a='我是帅哥'\n",
    "print (a)"
   ]
  },
  {
   "cell_type": "code",
   "execution_count": 19,
   "metadata": {
    "collapsed": false
   },
   "outputs": [
    {
     "ename": "AttributeError",
     "evalue": "'str' object has no attribute 'decode'",
     "output_type": "error",
     "traceback": [
      "\u001b[0;31m---------------------------------------------------------------------------\u001b[0m",
      "\u001b[0;31mAttributeError\u001b[0m                            Traceback (most recent call last)",
      "\u001b[0;32m<ipython-input-19-19920cf2595f>\u001b[0m in \u001b[0;36m<module>\u001b[0;34m()\u001b[0m\n\u001b[0;32m----> 1\u001b[0;31m \u001b[0ma\u001b[0m\u001b[1;33m.\u001b[0m\u001b[0mdecode\u001b[0m\u001b[1;33m(\u001b[0m\u001b[1;34m'UTF-8'\u001b[0m\u001b[1;33m)\u001b[0m\u001b[1;33m.\u001b[0m\u001b[0mencode\u001b[0m\u001b[1;33m(\u001b[0m\u001b[1;34m'GBK'\u001b[0m\u001b[1;33m)\u001b[0m\u001b[1;33m\u001b[0m\u001b[0m\n\u001b[0m\u001b[1;32m      2\u001b[0m \u001b[0mprint\u001b[0m\u001b[1;33m(\u001b[0m\u001b[0ma\u001b[0m\u001b[1;33m)\u001b[0m\u001b[1;33m\u001b[0m\u001b[0m\n",
      "\u001b[0;31mAttributeError\u001b[0m: 'str' object has no attribute 'decode'"
     ]
    }
   ],
   "source": [
    "a.decode('UTF-8').encode('GBK')\n",
    "print(a)"
   ]
  },
  {
   "cell_type": "code",
   "execution_count": null,
   "metadata": {
    "collapsed": true
   },
   "outputs": [],
   "source": []
  }
 ],
 "metadata": {
  "kernelspec": {
   "display_name": "Python 3",
   "language": "python",
   "name": "python3"
  },
  "language_info": {
   "codemirror_mode": {
    "name": "ipython",
    "version": 3
   },
   "file_extension": ".py",
   "mimetype": "text/x-python",
   "name": "python",
   "nbconvert_exporter": "python",
   "pygments_lexer": "ipython3",
   "version": "3.6.0"
  }
 },
 "nbformat": 4,
 "nbformat_minor": 0
}
