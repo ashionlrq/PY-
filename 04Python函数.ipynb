{
 "cells": [
  {
   "cell_type": "markdown",
   "metadata": {},
   "source": [
    "# Python函数"
   ]
  },
  {
   "cell_type": "markdown",
   "metadata": {},
   "source": [
    "参考资料"
   ]
  },
  {
   "cell_type": "raw",
   "metadata": {},
   "source": [
    "认识函数\n",
    "形参与实参\n",
    "全局变量与局部变量\n",
    "函数的使用与返回值\n",
    "文档字符串"
   ]
  },
  {
   "cell_type": "markdown",
   "metadata": {},
   "source": [
    "## 1、认识函数"
   ]
  },
  {
   "cell_type": "markdown",
   "metadata": {},
   "source": [
    "###什么是函数"
   ]
  },
  {
   "cell_type": "markdown",
   "metadata": {},
   "source": [
    "函数的英文是function，所以，通俗地来讲，函数就是功能的意思。函数是用来封装特定功能的，比如，在Python里面，len()是一个函数，len()这个函数实现的功能是返回一个字符串的长度，所以说len()这个函数他的特定功能就是返回长度，再比如，我们可以自己定义一个函数，然后编写这个函数的功能，之后要使用的时候再调用这个函数。所以函数分为两种类型，一种是系统自带的不用我们编写其功能系统自己就有的，比如len()这种函数，另一种函数是我们自定义的，需要我们编写其功能的，这种函数自由度高，叫做自定义函数，需要使用的时候直接调用该函数。\n"
   ]
  },
  {
   "cell_type": "markdown",
   "metadata": {},
   "source": [
    "###函数的功能"
   ]
  },
  {
   "cell_type": "markdown",
   "metadata": {},
   "source": [
    "Python中我们上个知识点已经给大家讲过，其函数的核心就是功能，所以这个知识点我们对函数功能进行细讲。不同的函数可以实现不同的功能，我们可以利用系统自带的函数实现特定的功能，优点是非常方便，不用我们自己去写实现功能的对应的代码，但系统自带的函数其功能是系统已经写好的，所以比较死板，自由度低，比如len()这个函数他的功能是去字符串的长度，那么他的功能就仅仅只是取字符串强度，不能变成其他的功能。我们还可以使用自己定义的函数，自己定义的函数可以实现自己想要他实现的指定的功能，程序的功能可以由自己去自由改写，所以其灵活度很高。我们下面通过实例来讲一下函数的功能。\n"
   ]
  },
  {
   "cell_type": "code",
   "execution_count": 2,
   "metadata": {
    "collapsed": false
   },
   "outputs": [
    {
     "name": "stdout",
     "output_type": "stream",
     "text": [
      "2\n"
     ]
    }
   ],
   "source": [
    "#1.实现取字符串长度的功能\n",
    "a=\"as\"\n",
    "print(len(a))"
   ]
  },
  {
   "cell_type": "code",
   "execution_count": 3,
   "metadata": {
    "collapsed": false
   },
   "outputs": [
    {
     "name": "stdout",
     "output_type": "stream",
     "text": [
      "['st', 'dent']\n"
     ]
    }
   ],
   "source": [
    "#2.实现字符串的切割\n",
    "a=\"student\"\n",
    "b=a.split(\"u\")\n",
    "print b"
   ]
  },
  {
   "cell_type": "code",
   "execution_count": 4,
   "metadata": {
    "collapsed": true
   },
   "outputs": [],
   "source": [
    "a.split?"
   ]
  },
  {
   "cell_type": "markdown",
   "metadata": {},
   "source": [
    "###Python里函数的定义"
   ]
  },
  {
   "cell_type": "markdown",
   "metadata": {},
   "source": [
    "在Python中要想使用自定义函数，就得首先定义一个函数，定义一个函数包括两个部分的含义，第一个含义是申明这个指定的部分是函数，而不是其他的对象，第二个含义是要定义这个函数所包含的功能，也就是要编写这个函数的功能。下面我们通过实例来讲解一下函数的定义。\n"
   ]
  },
  {
   "cell_type": "raw",
   "metadata": {},
   "source": [
    "def 函数名（）：\n",
    "    函数内容;函数内容\n",
    "    函数内容;函数内容"
   ]
  },
  {
   "cell_type": "code",
   "execution_count": 5,
   "metadata": {
    "collapsed": true
   },
   "outputs": [],
   "source": [
    "#实例\n",
    "def function1():\n",
    "    a=9\n",
    "    a+=8\n",
    "    print a"
   ]
  },
  {
   "cell_type": "code",
   "execution_count": 6,
   "metadata": {
    "collapsed": false
   },
   "outputs": [
    {
     "name": "stdout",
     "output_type": "stream",
     "text": [
      "17\n"
     ]
    }
   ],
   "source": [
    "function1()"
   ]
  },
  {
   "cell_type": "markdown",
   "metadata": {},
   "source": [
    "## 2、形参与实参"
   ]
  },
  {
   "cell_type": "markdown",
   "metadata": {},
   "source": [
    "###函数中参数的概念"
   ]
  },
  {
   "cell_type": "markdown",
   "metadata": {},
   "source": [
    "上节课我们已经知道了，Python中函数的功能是实现一项或多项功能，但是，比如我们的函数len(),虽然他的功能是取字符串长度，但是如果仅仅只是len()，他是没有实际意义的，因为我们并没有说他要取哪个字符串的长度，如果我们要让他有实际意义，就必须将某个字符串放进这个函数里面，比如我们要取字符串\"abcdm\"的长度，我们就要将\"abcdm\"放进len()这个函数里面，变成len(\"abcdm\")，那么这样我们的len()函数才有实际意义。我们把括号里面的\"abcdm\"称为函数的参数。那么我们可以发现，参数是函数在执行功能时所要用到的数据。下面我们通过实例来讲解一下Python函数中参数的实例。\n"
   ]
  },
  {
   "cell_type": "code",
   "execution_count": 7,
   "metadata": {
    "collapsed": false
   },
   "outputs": [
    {
     "name": "stdout",
     "output_type": "stream",
     "text": [
      "5\n"
     ]
    }
   ],
   "source": [
    "#print len()\n",
    "\n",
    "a=\"abcdm\"\n",
    "print len(a)"
   ]
  },
  {
   "cell_type": "markdown",
   "metadata": {},
   "source": [
    "###什么是形参"
   ]
  },
  {
   "cell_type": "markdown",
   "metadata": {},
   "source": [
    "上面我们已经知道，在Python中函数是有参数的，函数的参数有两种，一种是实参，一种是形参。那么首先我们来学习形参，什么是形参呢？形参一般发生在函数定义的过程中，形参一般是指参数的名称，而不代表函数的值，他仅仅只是形式上的函\n",
    "数，仅仅只标明一个函数里面，哪个位置有哪个名称的参数而已。下面我们通过实例来了解一下形参。\n"
   ]
  },
  {
   "cell_type": "code",
   "execution_count": 8,
   "metadata": {
    "collapsed": true
   },
   "outputs": [],
   "source": [
    "#什么是形参\n",
    "def function1(a,b):\n",
    "    if a>b:\n",
    "        print a\n",
    "    else:\n",
    "        print b"
   ]
  },
  {
   "cell_type": "markdown",
   "metadata": {},
   "source": [
    "###什么是实参"
   ]
  },
  {
   "cell_type": "markdown",
   "metadata": {},
   "source": [
    "上面我们已经知道，在Python中函数的参数有形参和实参的区分，形参一般在函数定义的时候出现，那么什么是函数的实参呢？实参跟形参刚好互相弥补，实参一般是在函数调用时出现，实参一般指的是参数具体的值。下面我们通过实例讲解一下什么是函数的实参，以及总结一下函数实参与形参的区别。\n"
   ]
  },
  {
   "cell_type": "code",
   "execution_count": 11,
   "metadata": {
    "collapsed": false
   },
   "outputs": [
    {
     "name": "stdout",
     "output_type": "stream",
     "text": [
      "3\n"
     ]
    }
   ],
   "source": [
    "#什么是实参\n",
    "def function1(a,b):\n",
    "    if a>b:\n",
    "        print a\n",
    "    else:\n",
    "        print b\n",
    "function1(1,3)"
   ]
  },
  {
   "cell_type": "markdown",
   "metadata": {},
   "source": [
    "###参数的传递"
   ]
  },
  {
   "cell_type": "markdown",
   "metadata": {},
   "source": [
    "在Python中函数在调用的过程中参数的传递使用顺序的，下面我们通过实例来讲解一下参数的传递。\n"
   ]
  },
  {
   "cell_type": "code",
   "execution_count": 14,
   "metadata": {
    "collapsed": false
   },
   "outputs": [
    {
     "data": {
      "text/plain": [
       "8"
      ]
     },
     "execution_count": 14,
     "metadata": {},
     "output_type": "execute_result"
    }
   ],
   "source": [
    "#参数的传递\n",
    "#第一中，最简单的传递：按位置传递\n",
    "def function(a,b):\n",
    "    if a>b:\n",
    "        #print \"前面这个数大于后面这个数\"\n",
    "        return a\n",
    "    else:\n",
    "        #print \"后面这个数比较大\"\n",
    "        return b\n",
    "     \n",
    "max=function(7,8)\n",
    "max"
   ]
  },
  {
   "cell_type": "markdown",
   "metadata": {},
   "source": [
    "###关键字参数"
   ]
  },
  {
   "cell_type": "markdown",
   "metadata": {},
   "source": [
    "在Python中一个函数中出现多个参数的时候，我们可以通过参数的名字直接给我们的参数赋值，那么这些参数称之为关键字参数，下面我们通过实例来讲解一下。\n"
   ]
  },
  {
   "cell_type": "code",
   "execution_count": 1,
   "metadata": {
    "collapsed": false
   },
   "outputs": [
    {
     "name": "stdout",
     "output_type": "stream",
     "text": [
      "9\n",
      "10\n",
      "1\n"
     ]
    }
   ],
   "source": [
    "#第二种，赋值传递:关键字参数\n",
    "a=9\n",
    "b=10\n",
    "c=1\n",
    "def function(add=0,b=0,c=0):\n",
    "    print (add)\n",
    "    print (b)\n",
    "    print (c)\n",
    "    \n",
    "\n",
    "function(add=a,b=b,c=c)\n",
    "#function(b=7,a=8)\n",
    "#function(5,c=2,b=3)\n",
    "#function(b=4,c=2,a=1)"
   ]
  },
  {
   "cell_type": "code",
   "execution_count": 13,
   "metadata": {
    "collapsed": false
   },
   "outputs": [
    {
     "ename": "SyntaxError",
     "evalue": "non-keyword arg after keyword arg (<ipython-input-13-327547dd23bd>, line 2)",
     "output_type": "error",
     "traceback": [
      "\u001b[1;36m  File \u001b[1;32m\"<ipython-input-13-327547dd23bd>\"\u001b[1;36m, line \u001b[1;32m2\u001b[0m\n\u001b[1;33m    function(b=2,c=3,2)\u001b[0m\n\u001b[1;31mSyntaxError\u001b[0m\u001b[1;31m:\u001b[0m non-keyword arg after keyword arg\n"
     ]
    }
   ],
   "source": [
    "'''但是要注意，顺序打乱后，必须使用关键字参数'''\n",
    "function(b=2,c=3,2)"
   ]
  },
  {
   "cell_type": "markdown",
   "metadata": {},
   "source": [
    "## 3、全局变量与局部变量"
   ]
  },
  {
   "cell_type": "markdown",
   "metadata": {},
   "source": [
    "###什么是作用域"
   ]
  },
  {
   "cell_type": "markdown",
   "metadata": {},
   "source": [
    "Python中一个变量的是在一定的范围内起作用的，在其起作用的这个范围我们称之为作用域。下面我们通过实例来讲解一下作用域。\n"
   ]
  },
  {
   "cell_type": "code",
   "execution_count": 15,
   "metadata": {
    "collapsed": false
   },
   "outputs": [
    {
     "name": "stdout",
     "output_type": "stream",
     "text": [
      "9\n"
     ]
    }
   ],
   "source": [
    "#作用域\n",
    "def func():\n",
    "    i=8\n",
    "\n",
    "func()\n",
    "#print i\n",
    "#print j\n",
    "j=9\n",
    "print j"
   ]
  },
  {
   "cell_type": "markdown",
   "metadata": {},
   "source": [
    "###局部变量"
   ]
  },
  {
   "cell_type": "markdown",
   "metadata": {},
   "source": [
    "在Python中作用域在一定范围内而非全局都起作用的变量，我们将其称之为局部变量。在一个函数中，我们的变量如果没有进行全局变量申明，他默认就是一个局部变量。下面我们通过实例来认识一下局部变量。\n"
   ]
  },
  {
   "cell_type": "code",
   "execution_count": 16,
   "metadata": {
    "collapsed": false
   },
   "outputs": [
    {
     "name": "stdout",
     "output_type": "stream",
     "text": [
      "7\n",
      "2\n"
     ]
    }
   ],
   "source": [
    "#局部变量\n",
    "i=2\n",
    "def func2(a):\n",
    "    i=7\n",
    "    print i\n",
    "func2(1)\n",
    "print i\n",
    "#func2(i)\n",
    "#print i"
   ]
  },
  {
   "cell_type": "markdown",
   "metadata": {},
   "source": [
    "###全局变量"
   ]
  },
  {
   "cell_type": "markdown",
   "metadata": {},
   "source": [
    "在Python中如果我们想让某些变量的作用域为全局，也就是作用在程序的全部的地方，那么我们就要对这个变量进行全局声明，声明后这个变量就成了全局变量。下面我们通过实例来讲解一下我们的全局变量。\n"
   ]
  },
  {
   "cell_type": "code",
   "execution_count": 17,
   "metadata": {
    "collapsed": false
   },
   "outputs": [
    {
     "name": "stdout",
     "output_type": "stream",
     "text": [
      "7\n"
     ]
    }
   ],
   "source": [
    "#全局变量\n",
    "def func3():\n",
    "    global i\n",
    "    i=7\n",
    "    #print i\n",
    "#i=9\n",
    "func3()\n",
    "print i"
   ]
  },
  {
   "cell_type": "markdown",
   "metadata": {},
   "source": [
    "##4、函数的使用与返回值"
   ]
  },
  {
   "cell_type": "markdown",
   "metadata": {},
   "source": [
    "###函数的调用"
   ]
  },
  {
   "cell_type": "markdown",
   "metadata": {},
   "source": [
    "我们在程序运行时，要想执行某个函数，就需要调用这个函数。那么下面我们通过实例来讲解一下我们的函数如何调用。\n"
   ]
  },
  {
   "cell_type": "markdown",
   "metadata": {},
   "source": [
    "函数的调用我们已经接触过了多次，要想调用一个函数，\n",
    "在函数定以后，直接输一遍这个函数名即可，如果要传\n",
    "递实参到函数里面执行，直接在调用的时候括号里面输\n",
    "入实参即可。比如一个函数是def func3()：这样定\n",
    "义的,那么我们调用它直接输入func3(参数)即可。其\n",
    "中参数可以省略。"
   ]
  },
  {
   "cell_type": "code",
   "execution_count": 20,
   "metadata": {
    "collapsed": false
   },
   "outputs": [
    {
     "name": "stdout",
     "output_type": "stream",
     "text": [
      "7\n"
     ]
    }
   ],
   "source": [
    "def a():\n",
    "    i=1\n",
    "a()\n",
    "print i # 想想这些为什么不是1"
   ]
  },
  {
   "cell_type": "markdown",
   "metadata": {},
   "source": [
    "###函数的返回值"
   ]
  },
  {
   "cell_type": "markdown",
   "metadata": {},
   "source": [
    "在Python中有的函数是有返回值的，有的函数是没有返回值的。而有返回值的函数，我们让函数可以返回一个值，也可以让函数返回多个值。下面我们通过实例来讲解一下函数的返回值。\n"
   ]
  },
  {
   "cell_type": "code",
   "execution_count": 21,
   "metadata": {
    "collapsed": false
   },
   "outputs": [
    {
     "name": "stdout",
     "output_type": "stream",
     "text": [
      "7\n"
     ]
    }
   ],
   "source": [
    "#函数返回值\n",
    "'''函数的返回值是通过return语句来实现的'''\n",
    "#一个返回值的情况\n",
    "def test():\n",
    "    i=7\n",
    "    return i\n",
    "print test()"
   ]
  },
  {
   "cell_type": "code",
   "execution_count": 22,
   "metadata": {
    "collapsed": false
   },
   "outputs": [
    {
     "name": "stdout",
     "output_type": "stream",
     "text": [
      "(4, 5, 20)\n"
     ]
    }
   ],
   "source": [
    "#多个返回值的情况\n",
    "def test2(i,j):\n",
    "    k=i*j\n",
    "    return (i,j,k)\n",
    "#x=test2(4,5)\n",
    "#print x\n",
    "\n",
    "a=test2(4,5)\n",
    "print a"
   ]
  },
  {
   "cell_type": "code",
   "execution_count": 23,
   "metadata": {
    "collapsed": false
   },
   "outputs": [
    {
     "data": {
      "text/plain": [
       "tuple"
      ]
     },
     "execution_count": 23,
     "metadata": {},
     "output_type": "execute_result"
    }
   ],
   "source": [
    "type(a)"
   ]
  },
  {
   "cell_type": "code",
   "execution_count": 25,
   "metadata": {
    "collapsed": false
   },
   "outputs": [
    {
     "ename": "TypeError",
     "evalue": "'tuple' object does not support item assignment",
     "output_type": "error",
     "traceback": [
      "\u001b[1;31m---------------------------------------------------------------------------\u001b[0m",
      "\u001b[1;31mTypeError\u001b[0m                                 Traceback (most recent call last)",
      "\u001b[1;32m<ipython-input-25-2745db39f022>\u001b[0m in \u001b[0;36m<module>\u001b[1;34m()\u001b[0m\n\u001b[1;32m----> 1\u001b[1;33m \u001b[0ma\u001b[0m\u001b[1;33m[\u001b[0m\u001b[1;36m0\u001b[0m\u001b[1;33m]\u001b[0m\u001b[1;33m=\u001b[0m\u001b[1;36m100\u001b[0m\u001b[1;33m\u001b[0m\u001b[0m\n\u001b[0m",
      "\u001b[1;31mTypeError\u001b[0m: 'tuple' object does not support item assignment"
     ]
    }
   ],
   "source": [
    "a[0]=100 # 为什么不能改？？"
   ]
  },
  {
   "cell_type": "markdown",
   "metadata": {},
   "source": [
    "## 5、文档字符串"
   ]
  },
  {
   "cell_type": "markdown",
   "metadata": {},
   "source": [
    "###什么是文档字符串"
   ]
  },
  {
   "cell_type": "markdown",
   "metadata": {},
   "source": [
    "Python中我们可以定义很多很多的函数，而函数一多，对于我们开发人员来说，如果遇到太多的函数而没有进行深入了解这个程序，就会感觉很乱了，是一件非常头疼的事情，如果要想知道各个函数到底是做什么的，就得从头分析，很费时间。所以针对函数多了就会杂乱这个问题，我们有两种方式可以解决，第一种是在开发的时候为每个函数写一个文档进行说明，第二种是在Python中所特有的特性，就是在每个函数开头的地方，加上一行说明性文字，那么这行说明性文字我们就将其称为文档字符串。这样，我们在看到一个函数的时候，因为其有文档字符串进行说明，因为在编写程序的时候就可以直接编写文档字符串进行说明，很方便，也很清晰。\n"
   ]
  },
  {
   "cell_type": "markdown",
   "metadata": {},
   "source": [
    "###文档字符串使用详解"
   ]
  },
  {
   "cell_type": "markdown",
   "metadata": {},
   "source": [
    "下面我们通过实例来讲解一下Python中文档字符串的详细使用"
   ]
  },
  {
   "cell_type": "code",
   "execution_count": 26,
   "metadata": {
    "collapsed": false
   },
   "outputs": [
    {
     "name": "stdout",
     "output_type": "stream",
     "text": [
      "Help on function d in module __main__:\n",
      "\n",
      "d(i, j)\n",
      "    这个函数实现一个乘法运算。\n",
      "    \n",
      "    函数会返回一个乘法运算的结果。\n",
      "\n"
     ]
    }
   ],
   "source": [
    "#文档字符串\n",
    "def d(i,j):\n",
    "    '''这个函数实现一个乘法运算。\n",
    "\n",
    "    函数会返回一个乘法运算的结果。'''\n",
    "    k=i*j\n",
    "    return k\n",
    "\n",
    "#print d.__doc__\n",
    "\n",
    "help(d)"
   ]
  }
 ],
 "metadata": {
  "kernelspec": {
   "display_name": "Python 3",
   "language": "python",
   "name": "python3"
  },
  "language_info": {
   "codemirror_mode": {
    "name": "ipython",
    "version": 3
   },
   "file_extension": ".py",
   "mimetype": "text/x-python",
   "name": "python",
   "nbconvert_exporter": "python",
   "pygments_lexer": "ipython3",
   "version": "3.6.0"
  }
 },
 "nbformat": 4,
 "nbformat_minor": 0
}
